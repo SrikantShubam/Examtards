{
 "cells": [
  {
   "cell_type": "markdown",
   "metadata": {},
   "source": [
    "## Load the Data"
   ]
  },
  {
   "cell_type": "code",
   "execution_count": 1,
   "metadata": {},
   "outputs": [],
   "source": [
    "import json\n",
    "import os\n",
    "import cv2\n",
    "import numpy as np\n",
    "from sklearn.model_selection import train_test_split\n",
    "from sklearn.linear_model import LogisticRegression\n",
    "from sklearn.ensemble import RandomForestClassifier\n",
    "from sklearn.metrics import f1_score, recall_score\n",
    "# import math\n",
    "\n",
    "# Load JSON data\n",
    "with open('./training-set/result.json', 'r') as f:\n",
    "    data = json.load(f)\n",
    "\n",
    "# Initialize lists to store features and labels\n",
    "X = []\n",
    "y = []"
   ]
  },
  {
   "cell_type": "markdown",
   "metadata": {},
   "source": [
    "## Helper Functions"
   ]
  },
  {
   "cell_type": "code",
   "execution_count": 2,
   "metadata": {},
   "outputs": [],
   "source": [
    "# Define function to load and preprocess images\n",
    "def preprocess_image(image_path, bbox):\n",
    "    image = cv2.imread(image_path)\n",
    "    # Resize image if needed\n",
    "    # image = cv2.resize(image, (desired_width, desired_height))\n",
    "    # Extract region of interest using bounding box\n",
    "    x, y, w, h = [int(x) for x in bbox]\n",
    "    # print(bbox)\n",
    "    roi = image[y:y+h, x:x+w]\n",
    "    # Perform any additional preprocessing if needed\n",
    "    # ...\n",
    "    # Return preprocessed image\n",
    "    return roi\n",
    "\n",
    "def extract_features_CNN(image):\n",
    "    import numpy as np\n",
    "    from keras.applications.vgg16 import VGG16, preprocess_input\n",
    "    from keras.preprocessing import image as Image\n",
    "    # Load pre-trained VGG16 model\n",
    "    model = VGG16(weights='imagenet', include_top=False)\n",
    "    \n",
    "    # Resize image to the input size expected by VGG16\n",
    "    input_shape = (224, 224)\n",
    "    resized_image = cv2.resize(image, input_shape)\n",
    "    \n",
    "    # Preprocess input image\n",
    "    preprocessed_image = preprocess_input(resized_image)\n",
    "    \n",
    "    # Expand dimensions to match the input shape expected by the model\n",
    "    preprocessed_image = np.expand_dims(preprocessed_image, axis=0)\n",
    "    \n",
    "    # Extract features using the pre-trained model\n",
    "    features = model.predict(preprocessed_image)\n",
    "\n",
    "    \n",
    "    # Flatten the features to create a feature vector\n",
    "    feature_vector = features.flatten()\n",
    "    \n",
    "    return feature_vector\n",
    "\n",
    "def extract_features(image):\n",
    "    hist = cv2.calcHist([image], [0, 1, 2], None, [8, 8, 8], [0, 256, 0, 256, 0, 256])\n",
    "    hist = cv2.normalize(hist, hist).flatten()  # Normalize and flatten the histogram\n",
    "    return hist\n",
    "\n",
    "def augment_image(image):\n",
    "    augmented_images = []\n",
    "    \n",
    "    # # Flip horizontally -> mirror image doesn't make sense here for question and answer type datasets\n",
    "    # flipped_image = np.flip(image, 1)\n",
    "    # augmented_images.append(flipped_image)\n",
    "\n",
    "    # Flip vertically\n",
    "    flipped_image = np.flip(image, 0)\n",
    "    augmented_images.append(flipped_image)\n",
    "    \n",
    "    # Rotate image by 90 degrees\n",
    "    rotated_image = np.rot90(image)\n",
    "    augmented_images.append(rotated_image)\n",
    "    \n",
    "    # # Rotate image by 15 degrees\n",
    "\n",
    "    from scipy.ndimage import rotate\n",
    "    rotated_image = rotate(image, angle=15, reshape=False)\n",
    "    augmented_images.append(rotated_image)\n",
    "\n",
    "    rotated_image = rotate(image, angle=-15, reshape=False)\n",
    "    augmented_images.append(rotated_image)\n",
    "    \n",
    "    return augmented_images\n"
   ]
  },
  {
   "cell_type": "markdown",
   "metadata": {},
   "source": [
    "## Data abstraction"
   ]
  },
  {
   "cell_type": "code",
   "execution_count": 3,
   "metadata": {},
   "outputs": [],
   "source": [
    "# Iterate through annotations to extract features and labels\n",
    "for annotation in data['annotations']:\n",
    "    image_id = annotation['image_id']\n",
    "    category_id = annotation['category_id']\n",
    "    bbox = annotation['bbox']\n",
    "    image_info = data['images'][image_id]\n",
    "    image_path = os.path.join(os.getcwd(),'training-set', image_info['file_name'])\n",
    "    \n",
    "    # Load and preprocess image\n",
    "    image = preprocess_image(image_path, bbox)\n",
    "    \n",
    "    # Extract features using pre-trained CNN model\n",
    "    # feature_vector = extract_features(image)\n",
    "\n",
    "    # Load and preprocess image\n",
    "    image = cv2.imread(image_path)\n",
    "    a, b, w, h = [int(x) for x in bbox]\n",
    "    roi = image[b:b+h, a:a+w]\n",
    "\n",
    "    # extracting features\n",
    "    feature_vector = extract_features(roi)\n",
    "    \n",
    "    # feature_vector = np.random.rand(1000)\n",
    "    \n",
    "    # Append feature vector to X\n",
    "    X.append(feature_vector)\n",
    "    \n",
    "    # Append category label to y\n",
    "    y.append(category_id)\n",
    "\n",
    "    # Data Augmentation Part\n",
    "    for aug_image in augment_image(roi):\n",
    "        feature_vector = extract_features(aug_image)\n",
    "        X.append(feature_vector)\n",
    "        y.append(category_id)\n",
    "\n",
    "\n",
    "# Convert lists to numpy arrays\n",
    "X = np.array(X)\n",
    "y = np.array(y)"
   ]
  },
  {
   "cell_type": "markdown",
   "metadata": {},
   "source": [
    "## Training and Testing"
   ]
  },
  {
   "cell_type": "code",
   "execution_count": 6,
   "metadata": {},
   "outputs": [
    {
     "data": {
      "text/plain": [
       "['random_forest_model.pkl']"
      ]
     },
     "execution_count": 6,
     "metadata": {},
     "output_type": "execute_result"
    }
   ],
   "source": [
    "\n",
    "# Split data into training and testing sets\n",
    "X_train, X_test, y_train, y_test = train_test_split(X, y, test_size=0.2, random_state=42)\n",
    "\n",
    "# Initialize logistic regression model\n",
    "\n",
    "# logistic_reg = LogisticRegression(max_iter=5000)\n",
    "\n",
    "# n_estimators_list = [570,585] ->570 max\n",
    "\n",
    "# for n in range(n_estimators_list):\n",
    "randomForest = RandomForestClassifier(n_estimators=570, random_state=42)\n",
    "\n",
    "# Train the model\n",
    "randomForest.fit(X_train, y_train)\n",
    "\n",
    "import joblib\n",
    "# Save the trained model\n",
    "joblib.dump(randomForest, 'random_forest_model.pkl')"
   ]
  },
  {
   "cell_type": "code",
   "execution_count": 7,
   "metadata": {},
   "outputs": [
    {
     "name": "stdout",
     "output_type": "stream",
     "text": [
      "Accuracy: 0.9501385041551247\n",
      "F1: 0.9501354429374679\n",
      "Recall: 0.9501385041551247\n"
     ]
    }
   ],
   "source": [
    "y_pred = randomForest.predict(X_test)\n",
    "\n",
    "f1 = f1_score(y_test, y_pred, average='weighted')\n",
    "recall = recall_score(y_test, y_pred, average='weighted')\n",
    "# Evaluate the model\n",
    "accuracy = randomForest.score(X_test, y_test)\n",
    "print(\"Accuracy:\", accuracy)\n",
    "print(\"F1:\", f1)\n",
    "print(\"Recall:\", recall)"
   ]
  },
  {
   "cell_type": "markdown",
   "metadata": {},
   "source": [
    "## Metrics"
   ]
  },
  {
   "cell_type": "code",
   "execution_count": 8,
   "metadata": {},
   "outputs": [
    {
     "data": {
      "image/png": "[encoded data removed]",
      "text/plain": [
       "<Figure size 576x432 with 2 Axes>"
      ]
     },
     "metadata": {
      "needs_background": "light"
     },
     "output_type": "display_data"
    }
   ],
   "source": [
    "from sklearn.metrics import confusion_matrix\n",
    "import seaborn as sns\n",
    "import matplotlib.pyplot as plt\n",
    "\n",
    "conf_matrix = confusion_matrix(y_test, y_pred)\n",
    "\n",
    "# Plot confusion matrix\n",
    "plt.figure(figsize=(8, 6))\n",
    "sns.heatmap(conf_matrix, annot=True, fmt='d', cmap=\"Blues\", xticklabels=['Class 0', 'Class 1'], yticklabels=['Class 0', 'Class 1'])\n",
    "plt.xlabel('Predicted')\n",
    "plt.ylabel('Actual')\n",
    "plt.title('Confusion Matrix')\n",
    "plt.show()"
   ]
  }
 ],
 "metadata": {
  "kernelspec": {
   "display_name": "Python 3",
   "language": "python",
   "name": "python3"
  },
  "language_info": {
   "codemirror_mode": {
    "name": "ipython",
    "version": 3
   },
   "file_extension": ".py",
   "mimetype": "text/x-python",
   "name": "python",
   "nbconvert_exporter": "python",
   "pygments_lexer": "ipython3",
   "version": "3.9.7"
  }
 },
 "nbformat": 4,
 "nbformat_minor": 2
}
